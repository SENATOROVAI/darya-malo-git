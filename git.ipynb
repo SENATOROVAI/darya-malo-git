{
 "cells": [
  {
   "cell_type": "code",
   "execution_count": null,
   "metadata": {},
   "outputs": [],
   "source": [
    "\"\"\"Git и организация программных проектов.\"\"\""
   ]
  },
  {
   "cell_type": "code",
   "execution_count": null,
   "metadata": {},
   "outputs": [],
   "source": [
    "#pip install --user cookiecutter"
   ]
  },
  {
   "cell_type": "markdown",
   "metadata": {},
   "source": [
    "установить Cookiecutter - отрабатывать в командной строке ПК\n",
    "\n",
    "\n",
    "инфо о модуле cookiecutter на https://cookiecutter.readthedocs.io/"
   ]
  },
  {
   "cell_type": "code",
   "execution_count": null,
   "metadata": {},
   "outputs": [],
   "source": [
    "#python -m cookiecutter"
   ]
  },
  {
   "cell_type": "markdown",
   "metadata": {},
   "source": [
    "из-за WARNING: The script chardetect.exe is installed in\n",
    "'C:\\Users\\Dariana\\AppData\\Roaming\\Python\\Python312\\Scripts' which is not on\n",
    "PATH. нужно запускать python -m cookiecutter вместо cookiecutter в терминале"
   ]
  },
  {
   "cell_type": "code",
   "execution_count": null,
   "metadata": {},
   "outputs": [],
   "source": [
    "#python -m cookiecutter gh:asweigart/cookiecutter-basicpythonproject"
   ]
  },
  {
   "cell_type": "markdown",
   "metadata": {},
   "source": [
    "в терминале модуль cookiecutter загружает шаблон с GitHub и задает вопросы о\n",
    "создаваемом проекте"
   ]
  },
  {
   "cell_type": "code",
   "execution_count": null,
   "metadata": {},
   "outputs": [],
   "source": [
    "#git --version"
   ]
  },
  {
   "cell_type": "markdown",
   "metadata": {},
   "source": [
    "в терминале git version 2.46.1.windows.1"
   ]
  },
  {
   "cell_type": "code",
   "execution_count": null,
   "metadata": {},
   "outputs": [],
   "source": [
    "#git config --global user.name \"Darya Malova\"\n",
    "#git config --global user.email darya-malova@mail.ru"
   ]
  },
  {
   "cell_type": "markdown",
   "metadata": {},
   "source": [
    "В терминале задается имя и почта для инфо об авторе коммитов"
   ]
  },
  {
   "cell_type": "code",
   "execution_count": null,
   "metadata": {},
   "outputs": [],
   "source": [
    "#git config --list"
   ]
  },
  {
   "cell_type": "markdown",
   "metadata": {},
   "source": [
    "в терминале для настройки текущей конфигурации Git (хранится в .gitconfig\n",
    "в домашней папке)"
   ]
  },
  {
   "cell_type": "code",
   "execution_count": null,
   "metadata": {},
   "outputs": [],
   "source": [
    "#git init "
   ]
  },
  {
   "cell_type": "markdown",
   "metadata": {},
   "source": [
    "создает репозиторий Git (если создан уже, то реинициализирует текущий)"
   ]
  },
  {
   "cell_type": "code",
   "execution_count": null,
   "metadata": {},
   "outputs": [],
   "source": [
    "#git clone"
   ]
  },
  {
   "cell_type": "markdown",
   "metadata": {},
   "source": [
    "клонирует существующий репо в папку с одноименным названием"
   ]
  },
  {
   "cell_type": "code",
   "execution_count": null,
   "metadata": {},
   "outputs": [],
   "source": [
    "#git add <имя_файла> \n",
    "#git add git.ipynb\n",
    "#git commit -am \"<сообщение, описывающее содержание коммита>\"\n",
    "#git commit -am \"git add and commit test\""
   ]
  },
  {
   "cell_type": "markdown",
   "metadata": {},
   "source": [
    "позволяет через терминал закоммитить определенный файл с его описанием.\n",
    "главное - не забыть потом его запушить\n",
    "\n",
    "git commit -am command также помогает индексировать измененные файлы для\n",
    "возможности затем откатиться к закоммиченной версии"
   ]
  },
  {
   "cell_type": "code",
   "execution_count": null,
   "metadata": {},
   "outputs": [],
   "source": [
    "#git help <команда>\n",
    "#git help init\n",
    "#git help add"
   ]
  },
  {
   "cell_type": "markdown",
   "metadata": {},
   "source": [
    "просмотр справки о команде"
   ]
  },
  {
   "cell_type": "code",
   "execution_count": null,
   "metadata": {},
   "outputs": [],
   "source": [
    "#git status"
   ]
  },
  {
   "cell_type": "markdown",
   "metadata": {},
   "source": [
    "подсказка о коммитах, сохраненных файлах, измененных файлах, отслеживаемых и\n",
    "неотслеживаемых файлах"
   ]
  },
  {
   "cell_type": "code",
   "execution_count": null,
   "metadata": {},
   "outputs": [],
   "source": [
    "#md wizcoin #создает папку wizcoin\n",
    "#cd wizcoin #открывает папку wizcoin\n",
    "#git init #превращение папки в репозиторий Git, все файлы неотслеживаемые"
   ]
  },
  {
   "cell_type": "markdown",
   "metadata": {},
   "source": [
    "после git init создается папка wizcoin/.git, которая будет хранить метаданные\n",
    "репозитория"
   ]
  },
  {
   "cell_type": "code",
   "execution_count": null,
   "metadata": {},
   "outputs": [],
   "source": [
    "#watch #для регулярного git status или git log -online"
   ]
  },
  {
   "cell_type": "markdown",
   "metadata": {},
   "source": [
    "загрузить с https://inventwithpython.com/watch.exe и разместить в PATH\n",
    "почему-то у меня .exe файл не запускается, в будущем попрактикую в Ubuntu"
   ]
  },
  {
   "cell_type": "code",
   "execution_count": null,
   "metadata": {},
   "outputs": [],
   "source": [
    "#git add *.py #индексировать все py файлы из текущего рабочего каталога\n",
    "#git add . #индексировать/добавить все неотслеживаемые файлы"
   ]
  },
  {
   "cell_type": "code",
   "execution_count": null,
   "metadata": {},
   "outputs": [],
   "source": [
    "#git commit -m \"Adding new files to the repo.\" #описание коммита (create mode)"
   ]
  },
  {
   "cell_type": "code",
   "execution_count": null,
   "metadata": {},
   "outputs": [],
   "source": [
    "#git commit -m <сообщение> file1.py file2.py #часть файлов закоммитится\n",
    "#после git add .\n",
    "#git commit -am <сообщение> #все файлы закоммитятся"
   ]
  },
  {
   "cell_type": "markdown",
   "metadata": {},
   "source": [
    "\"*\" - используется в .gitignore для шаблонов\n",
    "полная документация к gitignore\n",
    "https://git-scm.com/docs/gitignore\n",
    "\n",
    "https://github.com/django/django/commits/main/ - для примера названий коммитов"
   ]
  },
  {
   "cell_type": "code",
   "execution_count": null,
   "metadata": {},
   "outputs": [],
   "source": [
    "#git ls-files --other --ignored --exclude-standard"
   ]
  },
  {
   "cell_type": "markdown",
   "metadata": {},
   "source": [
    "чтобы увидеть, какие файлы игноруются"
   ]
  },
  {
   "cell_type": "code",
   "execution_count": null,
   "metadata": {},
   "outputs": [],
   "source": [
    "#git commit --amend -m \"<новое_сообщение>\" \n",
    "#для изменения сообщения последнего коммита"
   ]
  },
  {
   "cell_type": "code",
   "execution_count": null,
   "metadata": {},
   "outputs": [],
   "source": [
    "#git diff #посмотреть изменения после коммита + и -"
   ]
  },
  {
   "cell_type": "code",
   "execution_count": null,
   "metadata": {},
   "outputs": [],
   "source": [
    "#git config diff.tool winmerge #(или tkdiff, meld, kompare) #установка граф\n",
    "#интерфейса изменений\n",
    "#git difftool README.md #для просмотра изменений в файле README.md"
   ]
  },
  {
   "cell_type": "markdown",
   "metadata": {},
   "source": [
    "Скачать WinMerge https://winmerge.org/, но у меня не удалась загрузка"
   ]
  },
  {
   "cell_type": "code",
   "execution_count": null,
   "metadata": {},
   "outputs": [],
   "source": [
    "#git config --global difftool.prompt false"
   ]
  },
  {
   "cell_type": "markdown",
   "metadata": {},
   "source": [
    "чтобы не запрашивать подтверждения на запуск граф интерфейса"
   ]
  },
  {
   "cell_type": "code",
   "execution_count": null,
   "metadata": {},
   "outputs": [],
   "source": [
    "#echo \"Test file\" > deleteme.txt #создает файл deleteme с текстом Test file\n",
    "#git add deleteme.txt\n",
    "#git commit -m \"Adding a file to test Git deletion.\"\n",
    "#git status"
   ]
  },
  {
   "cell_type": "markdown",
   "metadata": {},
   "source": [
    "сохранили файл deleteme.txt в репо, чтобы дальше тестить удалеие"
   ]
  },
  {
   "cell_type": "code",
   "execution_count": null,
   "metadata": {},
   "outputs": [],
   "source": [
    "#git rm deleteme.txt #удаляет файл из рабочей копии, не из репо, удаление\n",
    "#индексируется\n",
    "#git commit -m \"Deleting deleteme.txt from the repo to finish the deletion text.\" #коммит удаления из репо"
   ]
  },
  {
   "cell_type": "code",
   "execution_count": null,
   "metadata": {},
   "outputs": [],
   "source": [
    "git restore <имя_файла>"
   ]
  },
  {
   "cell_type": "code",
   "execution_count": null,
   "metadata": {},
   "outputs": [],
   "source": [
    "git rm deleteme.txt"
   ]
  },
  {
   "cell_type": "code",
   "execution_count": null,
   "metadata": {},
   "outputs": [],
   "source": [
    "git commit -m \"Deleting deleteme.txt from the repo to finish the deletion test.\""
   ]
  },
  {
   "cell_type": "code",
   "execution_count": null,
   "metadata": {},
   "outputs": [],
   "source": [
    "git reset HEAD <имя_файла>"
   ]
  },
  {
   "cell_type": "code",
   "execution_count": null,
   "metadata": {},
   "outputs": [],
   "source": [
    "git mv\n",
    "git commit"
   ]
  },
  {
   "cell_type": "code",
   "execution_count": null,
   "metadata": {},
   "outputs": [],
   "source": [
    "git mv README.md README.txt\n",
    "git status"
   ]
  },
  {
   "cell_type": "code",
   "execution_count": null,
   "metadata": {},
   "outputs": [],
   "source": [
    "mkdir movetest\n",
    "git mv README.txt movetest/README.txt\n",
    "git status\n",
    "git commit -m \"Testing the moving of files in Git\""
   ]
  },
  {
   "cell_type": "code",
   "execution_count": null,
   "metadata": {},
   "outputs": [],
   "source": [
    "git mv movetest/README.txt README.md\n",
    "git status\n",
    "git commit -m \"Moving the README file back to its original place and name.\""
   ]
  },
  {
   "cell_type": "code",
   "execution_count": null,
   "metadata": {},
   "outputs": [],
   "source": [
    "git log"
   ]
  },
  {
   "cell_type": "code",
   "execution_count": null,
   "metadata": {},
   "outputs": [],
   "source": [
    "git log --oneline #усекает вывод до сокращенных хешей и первой строки каждого сообщения коммита\n",
    "git log --oneline -n 3 #ограничение вывода n последних коммитов (трех)"
   ]
  },
  {
   "cell_type": "code",
   "execution_count": null,
   "metadata": {},
   "outputs": [],
   "source": [
    "git show <хеш>:<имя_файла>"
   ]
  },
  {
   "cell_type": "code",
   "execution_count": null,
   "metadata": {},
   "outputs": [],
   "source": [
    "git restore <имя_файла> #содержимое файла становится таким, как в последнем коммите"
   ]
  },
  {
   "cell_type": "code",
   "execution_count": null,
   "metadata": {},
   "outputs": [],
   "source": [
    "git checkout . #отменить все изменения во всех файлах рабочей копии"
   ]
  },
  {
   "cell_type": "code",
   "execution_count": null,
   "metadata": {},
   "outputs": [],
   "source": [
    "git add\n",
    "git restore --staged <имя_файла>"
   ]
  },
  {
   "cell_type": "code",
   "execution_count": null,
   "metadata": {},
   "outputs": [],
   "source": [
    "git revert -n HEAD~3..HEAD"
   ]
  },
  {
   "cell_type": "code",
   "execution_count": null,
   "metadata": {},
   "outputs": [],
   "source": [
    "git add .\n",
    "git commit -m \"<сообщение>\""
   ]
  },
  {
   "cell_type": "code",
   "execution_count": null,
   "metadata": {},
   "outputs": [],
   "source": [
    "git revert -n HEAD~3..HEAD\n",
    "git add .\n",
    "git commit -m \"Starting over from the plot twist.\"\n",
    "git log --oneline"
   ]
  },
  {
   "cell_type": "code",
   "execution_count": null,
   "metadata": {},
   "outputs": [],
   "source": [
    "git log --oneline\n",
    "git show <хеш>:<имя_файла>\n",
    "git show 009b7c0:eggs.py #содержимое eggs.py на момент сохранения 009b7c0"
   ]
  },
  {
   "cell_type": "code",
   "execution_count": null,
   "metadata": {},
   "outputs": [],
   "source": [
    "git checkout <хеш> -- <имя_файла> #можно вернуть содержимое рабочей копии eggs.py к версии из хеша и сохранить файл обычным способом"
   ]
  },
  {
   "cell_type": "code",
   "execution_count": null,
   "metadata": {},
   "outputs": [],
   "source": [
    "git checkout 009b7c0 -- eggs.py\n",
    "git add eggs.py\n",
    "git commit -m \"Rolled back eggs.py to 009b7c0\"\n",
    "git log --oneline"
   ]
  },
  {
   "cell_type": "code",
   "execution_count": null,
   "metadata": {},
   "outputs": [],
   "source": [
    "git filter-branchor"
   ]
  },
  {
   "cell_type": "code",
   "execution_count": null,
   "metadata": {},
   "outputs": [],
   "source": [
    "git remote add origin https://github.com/<пользователь_github>/wizcoin.git\n",
    "#wizcoin - имя репозитория\n",
    "git push -u origin master\n",
    "#отправить все изменения, внесенные в локальном репозитории, в удаленный"
   ]
  },
  {
   "cell_type": "code",
   "execution_count": null,
   "metadata": {},
   "outputs": [],
   "source": [
    "git remote add origin https://github.com/<пользователь_github>/wizcoin.git\n",
    "#добавляет GitHub как удаленный репозиторий, соответствующий локальному"
   ]
  },
  {
   "cell_type": "code",
   "execution_count": null,
   "metadata": {},
   "outputs": [],
   "source": [
    "git clone https://github.com/<пользователь_github>/wizcoin.git #загрузить репозиторий на локальный компьютер"
   ]
  }
 ],
 "metadata": {
  "kernelspec": {
   "display_name": "Python 3",
   "language": "python",
   "name": "python3"
  },
  "language_info": {
   "codemirror_mode": {
    "name": "ipython",
    "version": 3
   },
   "file_extension": ".py",
   "mimetype": "text/x-python",
   "name": "python",
   "nbconvert_exporter": "python",
   "pygments_lexer": "ipython3",
   "version": "3.12.4"
  }
 },
 "nbformat": 4,
 "nbformat_minor": 2
}
